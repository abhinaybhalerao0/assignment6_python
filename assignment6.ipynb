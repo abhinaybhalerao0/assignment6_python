{
 "cells": [
  {
   "cell_type": "code",
   "execution_count": 2,
   "id": "21977d72-d8f1-45a1-8d3d-fb9412ccab8e",
   "metadata": {},
   "outputs": [
    {
     "name": "stdin",
     "output_type": "stream",
     "text": [
      "enter the number 9\n"
     ]
    },
    {
     "name": "stdout",
     "output_type": "stream",
     "text": [
      "fibonacci_sequence\n",
      "0\n",
      "1\n",
      "1\n",
      "2\n",
      "3\n",
      "5\n",
      "8\n",
      "13\n",
      "21\n"
     ]
    }
   ],
   "source": [
    "### 1. Write a Python Program to Display Fibonacci Sequence Using Recursion?\n",
    "##Fibonacci is a sequence of numbers that starts with 0 and 1, and each subsequent number in the sequence is the sum of the two preceding numbers.\n",
    "##So the sequence goes:\n",
    "\n",
    "##0, 1, 1, 2, 3, 5, 8, 13, 21, 34, 55, 89, 144, ...\n",
    "\n",
    "def fibonacci_recursive(n):\n",
    "    if n <= 1:\n",
    "        return n\n",
    "    else:\n",
    "        return fibonacci_recursive(n-1) + fibonacci_recursive(n-2)\n",
    "    \n",
    "terms = int(input(\"enter the number\"))\n",
    "\n",
    "if terms <= 0:\n",
    "    print(\"please enter the positive value\")\n",
    "    \n",
    "else:\n",
    "    print(\"fibonacci_sequence\")\n",
    "    for i in range(terms):\n",
    "        print(fibonacci_recursive(i))"
   ]
  },
  {
   "cell_type": "code",
   "execution_count": 6,
   "id": "757ecde6-f488-4050-a743-f7dffcc3e674",
   "metadata": {},
   "outputs": [
    {
     "name": "stdin",
     "output_type": "stream",
     "text": [
      "enter the non-negative number to calculate factorial 5\n"
     ]
    },
    {
     "name": "stdout",
     "output_type": "stream",
     "text": [
      "the factorial of 5 is 120\n"
     ]
    }
   ],
   "source": [
    "### 2. Write a Python Program to Find Factorial of Number Using Recursion?\n",
    "def factorial_recursion(n):\n",
    "    if n == 0:\n",
    "        return 1\n",
    "    else:\n",
    "        return n * factorial_recursion(n-1)\n",
    "    \n",
    "num=int(input(\"enter the non-negative number to calculate factorial\"))\n",
    "        \n",
    "if num < 0:\n",
    "        print(\"plz enter the non-neg no.\")\n",
    "else:\n",
    "        print(f\"the factorial of {num} is {factorial_recursion(num)}\")"
   ]
  },
  {
   "cell_type": "code",
   "execution_count": 10,
   "id": "add7e448-cbdd-4588-b5d5-8fbc0f0e0ce1",
   "metadata": {},
   "outputs": [
    {
     "name": "stdin",
     "output_type": "stream",
     "text": [
      "enter the weight in kilograms 77\n",
      "enter the height in meter 1.75\n"
     ]
    },
    {
     "name": "stdout",
     "output_type": "stream",
     "text": [
      "your bmi is 25.142857142857142\n"
     ]
    }
   ],
   "source": [
    "### 3. Write a Python Program to calculate your Body Mass Index?\n",
    "def calculate_bmi(weight, height):\n",
    "    bmi = weight / (height ** 2)\n",
    "    return bmi\n",
    "    \n",
    "weight=float(input(\"enter the weight in kilograms\"))\n",
    "height=float(input(\"enter the height in meter\"))\n",
    "\n",
    "bmi = calculate_bmi(weight, height)\n",
    "\n",
    "print(\"your bmi is\", bmi)"
   ]
  },
  {
   "cell_type": "code",
   "execution_count": 12,
   "id": "37029e81-5ae4-4ec7-9b5e-4d6319c8838d",
   "metadata": {},
   "outputs": [
    {
     "name": "stdin",
     "output_type": "stream",
     "text": [
      "enter a number 5\n"
     ]
    },
    {
     "name": "stdout",
     "output_type": "stream",
     "text": [
      "the natural logarithm of 5.0 is 1.6094379124341003\n"
     ]
    }
   ],
   "source": [
    "### 4. Write a Python Program to calculate the natural logarithm of any number?\n",
    "import math\n",
    "x=float(input(\"enter a number\"))\n",
    "    \n",
    "lnx = math.log(x)\n",
    "\n",
    "print(\"the natural logarithm of\", x, \"is\", lnx)"
   ]
  },
  {
   "cell_type": "code",
   "execution_count": 15,
   "id": "0d6cca39-0ee1-40af-a05d-27ab57d54a04",
   "metadata": {},
   "outputs": [
    {
     "name": "stdin",
     "output_type": "stream",
     "text": [
      "enter the number 2\n"
     ]
    },
    {
     "name": "stdout",
     "output_type": "stream",
     "text": [
      "the cube sum of first 2 natural no. is 1\n"
     ]
    }
   ],
   "source": [
    "### 5. Write a Python Program for cube sum of first n natural numbers?\n",
    "n=int(input(\"enter the number\"))\n",
    "sum=0\n",
    "for i in range(1, n+1):\n",
    "    sum += i ** 3\n",
    "    \n",
    "print(\"the cube sum of first\", n, \"natural no. is\", sum)"
   ]
  },
  {
   "cell_type": "code",
   "execution_count": null,
   "id": "dcc16019-e39e-4b84-88e0-68e2ef1cd536",
   "metadata": {},
   "outputs": [],
   "source": []
  }
 ],
 "metadata": {
  "kernelspec": {
   "display_name": "Python 3 (ipykernel)",
   "language": "python",
   "name": "python3"
  },
  "language_info": {
   "codemirror_mode": {
    "name": "ipython",
    "version": 3
   },
   "file_extension": ".py",
   "mimetype": "text/x-python",
   "name": "python",
   "nbconvert_exporter": "python",
   "pygments_lexer": "ipython3",
   "version": "3.10.6"
  }
 },
 "nbformat": 4,
 "nbformat_minor": 5
}
